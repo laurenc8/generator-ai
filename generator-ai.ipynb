{
  "nbformat": 4,
  "nbformat_minor": 0,
  "metadata": {
    "colab": {
      "name": "Generator",
      "provenance": [],
      "collapsed_sections": [
        "VXizJTjJmIw_",
        "eDODcCljmOev",
        "kmBVgBOAnKQ9",
        "fwFyNKnuhV13",
        "xxhjlmL7oZt4",
        "5gfpdjGZqnLw"
      ],
      "toc_visible": true
    },
    "kernelspec": {
      "display_name": "Python 3",
      "name": "python3"
    }
  },
  "cells": [
    {
      "cell_type": "markdown",
      "metadata": {
        "id": "w6hwBakPmBSW"
      },
      "source": [
        "# Imports"
      ]
    },
    {
      "cell_type": "code",
      "metadata": {
        "id": "whDOhGIGVHcC"
      },
      "source": [
        "import numpy as np\n",
        "import pandas as pd\n",
        "import matplotlib.pyplot as plt\n",
        "from sklearn import linear_model\n",
        "import scipy.io\n",
        "import scipy.stats\n",
        "from sklearn.ensemble import RandomForestRegressor\n",
        "from sklearn.datasets import make_regression\n",
        "#import pingouin as pg\n",
        "import seaborn as sns\n",
        "from sklearn import svm"
      ],
      "execution_count": 18,
      "outputs": []
    },
    {
      "cell_type": "markdown",
      "metadata": {
        "id": "VXizJTjJmIw_"
      },
      "source": [
        "# Load Data"
      ]
    },
    {
      "cell_type": "code",
      "metadata": {
        "id": "L_8dLbnKaB-t"
      },
      "source": [
        "mat = scipy.io.loadmat('sim1.mat') #'/content/drive/MyDrive/Colab Notebooks/sim1.mat')"
      ],
      "execution_count": null,
      "outputs": []
    },
    {
      "cell_type": "markdown",
      "metadata": {
        "id": "cLbRQ1Z84ZO7"
      },
      "source": [
        "from google.colab import drive\n",
        "drive.mount('/content/drive')"
      ]
    },
    {
      "cell_type": "code",
      "metadata": {
        "id": "wmScgB-YK67b"
      },
      "source": [
        "Nsubjects = mat['Nsubjects']\n",
        "Ntimepoints = mat['Ntimepoints'][0,0]\n",
        "Nnodes = mat['Nnodes'][0,0]\n",
        "np_ts = mat['ts']\n",
        "net = mat['net']"
      ],
      "execution_count": null,
      "outputs": []
    },
    {
      "cell_type": "markdown",
      "metadata": {
        "id": "eDODcCljmOev"
      },
      "source": [
        "# Boxplots"
      ]
    },
    {
      "cell_type": "markdown",
      "metadata": {
        "id": "CvXczMVMqfNi"
      },
      "source": [
        "Boxplot of C-sensitivity Values"
      ]
    },
    {
      "cell_type": "code",
      "metadata": {
        "colab": {
          "base_uri": "https://localhost:8080/",
          "height": 351
        },
        "id": "bjMZzOIe-zlc",
        "outputId": "419e2ab3-996d-4e33-9294-911876fe89e3"
      },
      "source": [
        "all_c_fullcorr = np.load('all_c_fullcorr.npy',allow_pickle='TRUE').item()\n",
        "all_c_partcorr = np.load('all_c_partcorr.npy',allow_pickle='TRUE').item()\n",
        "all_c_multiLin = np.load('all_c_multiLin.npy',allow_pickle='TRUE').item()\n",
        "all_c_tree = np.load('all_c_tree.npy',allow_pickle='TRUE').item()\n",
        "all_c_svm = np.load('all_c_svm.npy',allow_pickle='TRUE').item()\n",
        "fig = plt.figure(figsize =(7, 8))\n",
        "ax = fig.add_axes([0, 0, 1, 1])\n",
        "bp = ax.boxplot([all_c_fullcorr[50], all_c_partcorr[50], all_c_multiLin[50], all_c_tree[50], all_c_svm[50]],\n",
        "                patch_artist = True, notch ='True')\n",
        "ax.set_xticklabels(['Full Corr.', 'Partial Corr.', 'Mult. Lin. Reg.', 'Rand. Forest Reg.', 'SVM'], fontsize=12)\n",
        "ax.set_ylim([0.5,1])\n",
        "ax.set_ylabel('C-sensitivity', fontsize=12)\n",
        "plt.title(\"Comparison of C-sensitivities\", fontsize=14)\n",
        "colors = ['#008080', '#58508d', '#bc5090', '#ff6361', '#ffa600']\n",
        "for patch, color in zip(bp['boxes'], colors): \n",
        "    patch.set_facecolor(color)\n",
        "for median in bp['medians']: \n",
        "    median.set(color ='black',\n",
        "               linewidth = 3)\n",
        "plt.savefig('hello2.png', dpi=700, bbox_inches='tight')"
      ],
      "execution_count": 26,
      "outputs": [
        {
          "output_type": "error",
          "ename": "FileNotFoundError",
          "evalue": "ignored",
          "traceback": [
            "\u001b[0;31m---------------------------------------------------------------------------\u001b[0m",
            "\u001b[0;31mFileNotFoundError\u001b[0m                         Traceback (most recent call last)",
            "\u001b[0;32m<ipython-input-26-e8289055e06a>\u001b[0m in \u001b[0;36m<module>\u001b[0;34m()\u001b[0m\n\u001b[0;32m----> 1\u001b[0;31m \u001b[0mall_c_fullcorr\u001b[0m \u001b[0;34m=\u001b[0m \u001b[0mnp\u001b[0m\u001b[0;34m.\u001b[0m\u001b[0mload\u001b[0m\u001b[0;34m(\u001b[0m\u001b[0;34m'all_c_fullcorr.npy'\u001b[0m\u001b[0;34m,\u001b[0m\u001b[0mallow_pickle\u001b[0m\u001b[0;34m=\u001b[0m\u001b[0;34m'TRUE'\u001b[0m\u001b[0;34m)\u001b[0m\u001b[0;34m.\u001b[0m\u001b[0mitem\u001b[0m\u001b[0;34m(\u001b[0m\u001b[0;34m)\u001b[0m\u001b[0;34m\u001b[0m\u001b[0;34m\u001b[0m\u001b[0m\n\u001b[0m\u001b[1;32m      2\u001b[0m \u001b[0mall_c_partcorr\u001b[0m \u001b[0;34m=\u001b[0m \u001b[0mnp\u001b[0m\u001b[0;34m.\u001b[0m\u001b[0mload\u001b[0m\u001b[0;34m(\u001b[0m\u001b[0;34m'all_c_partcorr.npy'\u001b[0m\u001b[0;34m,\u001b[0m\u001b[0mallow_pickle\u001b[0m\u001b[0;34m=\u001b[0m\u001b[0;34m'TRUE'\u001b[0m\u001b[0;34m)\u001b[0m\u001b[0;34m.\u001b[0m\u001b[0mitem\u001b[0m\u001b[0;34m(\u001b[0m\u001b[0;34m)\u001b[0m\u001b[0;34m\u001b[0m\u001b[0;34m\u001b[0m\u001b[0m\n\u001b[1;32m      3\u001b[0m \u001b[0mall_c_multiLin\u001b[0m \u001b[0;34m=\u001b[0m \u001b[0mnp\u001b[0m\u001b[0;34m.\u001b[0m\u001b[0mload\u001b[0m\u001b[0;34m(\u001b[0m\u001b[0;34m'all_c_multiLin.npy'\u001b[0m\u001b[0;34m,\u001b[0m\u001b[0mallow_pickle\u001b[0m\u001b[0;34m=\u001b[0m\u001b[0;34m'TRUE'\u001b[0m\u001b[0;34m)\u001b[0m\u001b[0;34m.\u001b[0m\u001b[0mitem\u001b[0m\u001b[0;34m(\u001b[0m\u001b[0;34m)\u001b[0m\u001b[0;34m\u001b[0m\u001b[0;34m\u001b[0m\u001b[0m\n\u001b[1;32m      4\u001b[0m \u001b[0mall_c_tree\u001b[0m \u001b[0;34m=\u001b[0m \u001b[0mnp\u001b[0m\u001b[0;34m.\u001b[0m\u001b[0mload\u001b[0m\u001b[0;34m(\u001b[0m\u001b[0;34m'all_c_tree.npy'\u001b[0m\u001b[0;34m,\u001b[0m\u001b[0mallow_pickle\u001b[0m\u001b[0;34m=\u001b[0m\u001b[0;34m'TRUE'\u001b[0m\u001b[0;34m)\u001b[0m\u001b[0;34m.\u001b[0m\u001b[0mitem\u001b[0m\u001b[0;34m(\u001b[0m\u001b[0;34m)\u001b[0m\u001b[0;34m\u001b[0m\u001b[0;34m\u001b[0m\u001b[0m\n\u001b[1;32m      5\u001b[0m \u001b[0mall_c_svm\u001b[0m \u001b[0;34m=\u001b[0m \u001b[0mnp\u001b[0m\u001b[0;34m.\u001b[0m\u001b[0mload\u001b[0m\u001b[0;34m(\u001b[0m\u001b[0;34m'all_c_svm.npy'\u001b[0m\u001b[0;34m,\u001b[0m\u001b[0mallow_pickle\u001b[0m\u001b[0;34m=\u001b[0m\u001b[0;34m'TRUE'\u001b[0m\u001b[0;34m)\u001b[0m\u001b[0;34m.\u001b[0m\u001b[0mitem\u001b[0m\u001b[0;34m(\u001b[0m\u001b[0;34m)\u001b[0m\u001b[0;34m\u001b[0m\u001b[0;34m\u001b[0m\u001b[0m\n",
            "\u001b[0;32m/usr/local/lib/python3.7/dist-packages/numpy/lib/npyio.py\u001b[0m in \u001b[0;36mload\u001b[0;34m(file, mmap_mode, allow_pickle, fix_imports, encoding)\u001b[0m\n\u001b[1;32m    414\u001b[0m             \u001b[0mown_fid\u001b[0m \u001b[0;34m=\u001b[0m \u001b[0;32mFalse\u001b[0m\u001b[0;34m\u001b[0m\u001b[0;34m\u001b[0m\u001b[0m\n\u001b[1;32m    415\u001b[0m         \u001b[0;32melse\u001b[0m\u001b[0;34m:\u001b[0m\u001b[0;34m\u001b[0m\u001b[0;34m\u001b[0m\u001b[0m\n\u001b[0;32m--> 416\u001b[0;31m             \u001b[0mfid\u001b[0m \u001b[0;34m=\u001b[0m \u001b[0mstack\u001b[0m\u001b[0;34m.\u001b[0m\u001b[0menter_context\u001b[0m\u001b[0;34m(\u001b[0m\u001b[0mopen\u001b[0m\u001b[0;34m(\u001b[0m\u001b[0mos_fspath\u001b[0m\u001b[0;34m(\u001b[0m\u001b[0mfile\u001b[0m\u001b[0;34m)\u001b[0m\u001b[0;34m,\u001b[0m \u001b[0;34m\"rb\"\u001b[0m\u001b[0;34m)\u001b[0m\u001b[0;34m)\u001b[0m\u001b[0;34m\u001b[0m\u001b[0;34m\u001b[0m\u001b[0m\n\u001b[0m\u001b[1;32m    417\u001b[0m             \u001b[0mown_fid\u001b[0m \u001b[0;34m=\u001b[0m \u001b[0;32mTrue\u001b[0m\u001b[0;34m\u001b[0m\u001b[0;34m\u001b[0m\u001b[0m\n\u001b[1;32m    418\u001b[0m \u001b[0;34m\u001b[0m\u001b[0m\n",
            "\u001b[0;31mFileNotFoundError\u001b[0m: [Errno 2] No such file or directory: 'all_c_fullcorr.npy'"
          ]
        }
      ]
    },
    {
      "cell_type": "markdown",
      "metadata": {
        "id": "f4DE6nstqhpA"
      },
      "source": [
        "Boxplot of Sensitivity Values"
      ]
    },
    {
      "cell_type": "code",
      "metadata": {
        "colab": {
          "base_uri": "https://localhost:8080/",
          "height": 644
        },
        "id": "KiRtHEqmqnBk",
        "outputId": "0a5484af-c455-44b7-fb6d-17d867254a85"
      },
      "source": [
        "fullcor_sensi = np.load('fullcor_sensi.npy',allow_pickle='TRUE').item()\n",
        "pc_sensi = np.load('pc_sensi.npy',allow_pickle='TRUE').item()\n",
        "multiLin_sensi = np.load('multiLin_sensi.npy',allow_pickle='TRUE').item()\n",
        "tree_sensi = np.load('tree_sensi.npy',allow_pickle='TRUE').item()\n",
        "svm_sensi = np.load('svm_sensi.npy',allow_pickle='TRUE').item()\n",
        "fig = plt.figure(figsize =(7, 8))\n",
        "ax = fig.add_axes([0, 0, 1, 1])\n",
        "bp = ax.boxplot([fullcor_sensi[50], pc_sensi[50], multiLin_sensi[50], tree_sensi[50], svm_sensi[50]],\n",
        "                patch_artist = True, notch ='True')\n",
        "ax.set_xticklabels(['Full Corr.', 'Partial Corr.', 'Mult. Lin. Reg.', 'Rand. Forest Reg.', 'SVM'], fontsize=12)\n",
        "ax.set_ylim([0.85,1])\n",
        "ax.set_ylabel('Sensitivity', fontsize=12)\n",
        "plt.title(\"Comparison of Sensitivities\", fontsize=14)\n",
        "colors = ['#008080', '#58508d', '#bc5090', '#ff6361', '#ffa600']\n",
        "for patch, color in zip(bp['boxes'], colors): \n",
        "    patch.set_facecolor(color)\n",
        "for median in bp['medians']:\n",
        "    median.set(color ='black',\n",
        "               linewidth = 3)\n",
        "plt.savefig('hello.png', dpi=700, bbox_inches='tight')"
      ],
      "execution_count": 27,
      "outputs": [
        {
          "output_type": "display_data",
          "data": {
            "image/png": "[encoded data removed]",
            "text/plain": [
              "<Figure size 504x576 with 1 Axes>"
            ]
          },
          "metadata": {
            "tags": [],
            "needs_background": "light"
          }
        }
      ]
    },
    {
      "cell_type": "markdown",
      "metadata": {
        "id": "CZbdlE4EmjWi"
      },
      "source": [
        "Saving Dictionaries and Old Boxplots"
      ]
    },
    {
      "cell_type": "code",
      "metadata": {
        "id": "kWcz3ZTLA8Uq",
        "colab": {
          "base_uri": "https://localhost:8080/",
          "height": 232
        },
        "outputId": "37a7168f-ee26-48e4-8381-22c4c950ab5c"
      },
      "source": [
        "import operator\n",
        "from functools import reduce\n",
        "print(np.average(reduce(operator.concat, list(all_c_tree.values()))))\n",
        "print(np.average(reduce(operator.concat, list(all_c_svm.values()))))\n",
        "print(np.average(reduce(operator.concat, list(all_c_fullcorr.values()))))\n",
        "print(np.average(reduce(operator.concat, list(all_c_partcorr.values()))))\n",
        "print(np.average(reduce(operator.concat, list(all_c_multiLin.values()))))"
      ],
      "execution_count": 28,
      "outputs": [
        {
          "output_type": "error",
          "ename": "NameError",
          "evalue": "ignored",
          "traceback": [
            "\u001b[0;31m---------------------------------------------------------------------------\u001b[0m",
            "\u001b[0;31mNameError\u001b[0m                                 Traceback (most recent call last)",
            "\u001b[0;32m<ipython-input-28-49b022db48f6>\u001b[0m in \u001b[0;36m<module>\u001b[0;34m()\u001b[0m\n\u001b[1;32m      1\u001b[0m \u001b[0;32mimport\u001b[0m \u001b[0moperator\u001b[0m\u001b[0;34m\u001b[0m\u001b[0;34m\u001b[0m\u001b[0m\n\u001b[1;32m      2\u001b[0m \u001b[0;32mfrom\u001b[0m \u001b[0mfunctools\u001b[0m \u001b[0;32mimport\u001b[0m \u001b[0mreduce\u001b[0m\u001b[0;34m\u001b[0m\u001b[0;34m\u001b[0m\u001b[0m\n\u001b[0;32m----> 3\u001b[0;31m \u001b[0mprint\u001b[0m\u001b[0;34m(\u001b[0m\u001b[0mnp\u001b[0m\u001b[0;34m.\u001b[0m\u001b[0maverage\u001b[0m\u001b[0;34m(\u001b[0m\u001b[0mreduce\u001b[0m\u001b[0;34m(\u001b[0m\u001b[0moperator\u001b[0m\u001b[0;34m.\u001b[0m\u001b[0mconcat\u001b[0m\u001b[0;34m,\u001b[0m \u001b[0mlist\u001b[0m\u001b[0;34m(\u001b[0m\u001b[0mall_c_tree\u001b[0m\u001b[0;34m.\u001b[0m\u001b[0mvalues\u001b[0m\u001b[0;34m(\u001b[0m\u001b[0;34m)\u001b[0m\u001b[0;34m)\u001b[0m\u001b[0;34m)\u001b[0m\u001b[0;34m)\u001b[0m\u001b[0;34m)\u001b[0m\u001b[0;34m\u001b[0m\u001b[0;34m\u001b[0m\u001b[0m\n\u001b[0m\u001b[1;32m      4\u001b[0m \u001b[0mprint\u001b[0m\u001b[0;34m(\u001b[0m\u001b[0mnp\u001b[0m\u001b[0;34m.\u001b[0m\u001b[0maverage\u001b[0m\u001b[0;34m(\u001b[0m\u001b[0mreduce\u001b[0m\u001b[0;34m(\u001b[0m\u001b[0moperator\u001b[0m\u001b[0;34m.\u001b[0m\u001b[0mconcat\u001b[0m\u001b[0;34m,\u001b[0m \u001b[0mlist\u001b[0m\u001b[0;34m(\u001b[0m\u001b[0mall_c_svm\u001b[0m\u001b[0;34m.\u001b[0m\u001b[0mvalues\u001b[0m\u001b[0;34m(\u001b[0m\u001b[0;34m)\u001b[0m\u001b[0;34m)\u001b[0m\u001b[0;34m)\u001b[0m\u001b[0;34m)\u001b[0m\u001b[0;34m)\u001b[0m\u001b[0;34m\u001b[0m\u001b[0;34m\u001b[0m\u001b[0m\n\u001b[1;32m      5\u001b[0m \u001b[0mprint\u001b[0m\u001b[0;34m(\u001b[0m\u001b[0mnp\u001b[0m\u001b[0;34m.\u001b[0m\u001b[0maverage\u001b[0m\u001b[0;34m(\u001b[0m\u001b[0mreduce\u001b[0m\u001b[0;34m(\u001b[0m\u001b[0moperator\u001b[0m\u001b[0;34m.\u001b[0m\u001b[0mconcat\u001b[0m\u001b[0;34m,\u001b[0m \u001b[0mlist\u001b[0m\u001b[0;34m(\u001b[0m\u001b[0mall_c_fullcorr\u001b[0m\u001b[0;34m.\u001b[0m\u001b[0mvalues\u001b[0m\u001b[0;34m(\u001b[0m\u001b[0;34m)\u001b[0m\u001b[0;34m)\u001b[0m\u001b[0;34m)\u001b[0m\u001b[0;34m)\u001b[0m\u001b[0;34m)\u001b[0m\u001b[0;34m\u001b[0m\u001b[0;34m\u001b[0m\u001b[0m\n",
            "\u001b[0;31mNameError\u001b[0m: name 'all_c_tree' is not defined"
          ]
        }
      ]
    },
    {
      "cell_type": "code",
      "metadata": {
        "id": "3GA7WIoHG3sD"
      },
      "source": [
        "import operator\n",
        "from functools import reduce\n",
        "print(np.average(all_c_multiLin[50]))\n",
        "print(np.average(all_c_tree[50]))\n",
        "print(np.average(all_c_svm[50]))\n",
        "print(np.average(all_c_fullcorr[50]))\n",
        "print(np.average(all_c_partcorr[50]))"
      ],
      "execution_count": null,
      "outputs": []
    },
    {
      "cell_type": "code",
      "metadata": {
        "id": "QL-CMpgTyMbX"
      },
      "source": [
        "#dictionary = {'hello':'world'}\n",
        "np.save('all_c_multiLin.npy', all_c_multiLin)\n",
        "np.save('all_c_svm.npy', all_c_svm)\n",
        "np.save('all_c_fullcorr.npy', all_c_fullcorr)\n",
        "np.save('all_c_partcorr.npy', all_c_partcorr)\n",
        "np.save('all_c_tree.npy', all_c_tree)"
      ],
      "execution_count": null,
      "outputs": []
    },
    {
      "cell_type": "code",
      "metadata": {
        "id": "9LSyJzt_mu2E"
      },
      "source": [
        "ax = sns.boxplot(np.array(list(all_c_tree.values())), color=\".9\", palette=\"Accent\")\n",
        "ax = sns.swarmplot(p.array(list(all_c_tree.values())), color=\".7\", palette=\"Set1\", size=3)\n",
        "plt.title(\"5 nodes\")"
      ],
      "execution_count": null,
      "outputs": []
    },
    {
      "cell_type": "code",
      "metadata": {
        "id": "50WtfA5JpS7r"
      },
      "source": [
        "ax = sns.boxplot(all_c_multiLin[5], color=\".9\", palette=\"Accent\")\n",
        "#ax = sns.swarmplot(all_c_multiLin[5], color=\".7\", palette=\"Set1\", size=1)\n",
        "plt.title(\"5 nodes\")"
      ],
      "execution_count": null,
      "outputs": []
    },
    {
      "cell_type": "code",
      "metadata": {
        "id": "CY3ifQMu_2Ar"
      },
      "source": [
        "ax = sns.boxplot(all_c_fullcorr[50], color=\".9\", palette=\"Accent\")\n",
        "ax = sns.swarmplot(all_c_fullcorr[50], color=\".7\", palette=\"Set1\", size=3)\n",
        "plt.title(\"50 nodes\")"
      ],
      "execution_count": null,
      "outputs": []
    },
    {
      "cell_type": "code",
      "metadata": {
        "id": "Wnr47VFv_JIx"
      },
      "source": [
        "ax = sns.boxplot(all_c_tree[50], color=\".9\", palette=\"Accent\")\n",
        "ax = sns.swarmplot(all_c_tree[50], color=\".7\", palette=\"Set1\", size=3)\n",
        "plt.title(\"50 nodes\")"
      ],
      "execution_count": null,
      "outputs": []
    },
    {
      "cell_type": "code",
      "metadata": {
        "id": "ICANP5MICJNM"
      },
      "source": [
        "ax = sns.boxplot(tree_list, color=\".9\", palette=\"Accent\")\n",
        "ax = sns.swarmplot(tree_list, color=\".7\", palette=\"Set1\", size=3)\n",
        "plt.title(\"all nodes\")"
      ],
      "execution_count": null,
      "outputs": []
    },
    {
      "cell_type": "code",
      "metadata": {
        "id": "XLUAe_IHrkKZ"
      },
      "source": [
        "ax = sns.boxplot(all_c_tree, color=\".9\", palette=\"Accent\")\n",
        "ax = sns.swarmplot(all_c_tree, color=\".7\", palette=\"Set1\")"
      ],
      "execution_count": null,
      "outputs": []
    },
    {
      "cell_type": "code",
      "metadata": {
        "id": "3IphwGj9k-2u"
      },
      "source": [
        "ax = sns.boxplot(all_c_svm, color=\".9\", palette=\"Accent\")\n",
        "ax = sns.swarmplot(all_c_svm, color=\".7\", palette=\"Set1\")"
      ],
      "execution_count": null,
      "outputs": []
    },
    {
      "cell_type": "code",
      "metadata": {
        "id": "XyJXSNV2PwRb"
      },
      "source": [
        "mat = scipy.io.loadmat('sim' + '4' + '.mat')\n",
        "net = mat['net']\n",
        "net.shape"
      ],
      "execution_count": null,
      "outputs": []
    },
    {
      "cell_type": "markdown",
      "metadata": {
        "id": "kmBVgBOAnKQ9"
      },
      "source": [
        "# Algorithms"
      ]
    },
    {
      "cell_type": "markdown",
      "metadata": {
        "id": "TM2kZXTdnOp1"
      },
      "source": [
        "Multiple Linear Regression"
      ]
    },
    {
      "cell_type": "code",
      "metadata": {
        "id": "p1_c_b1FUOWG"
      },
      "source": [
        "all_c_multiLin = {5: [], 10: [], 15: [], 50: []}\n",
        "multiLin_importMatrix = []\n",
        "multiLin_adjMatrix = []\n",
        "# for each simulation, for each person\n",
        "for i in range(1,29):\n",
        "  mat = scipy.io.loadmat('sim' + str(i) + '.mat')\n",
        "  Nsubjects = mat['Nsubjects'][0,0]\n",
        "  Ntimepoints = mat['Ntimepoints'][0,0]\n",
        "  Nnodes = mat['Nnodes'][0,0]\n",
        "  np_ts = mat['ts']\n",
        "  net = mat['net']\n",
        "# calc extremely randomized trees, c-sens\n",
        "  temp_one_sim_impMat = []\n",
        "  temp_one_sim_adjMat = []\n",
        "  for pers in range(Nsubjects):\n",
        "    res = calc_importance_matrix_MultipleLinReg(pers, Ntimepoints, Nnodes, np_ts, net)\n",
        "    model = avg_and_calc_threshold(res.copy(), Nnodes)\n",
        "    temp_one_sim_impMat.append(res)\n",
        "    temp_one_sim_adjMat.append(model)\n",
        "    c_sens = calc_c_sensitivity(model, net[pers,:,:])\n",
        "# end: average all c-sens'\n",
        "    all_c_multiLin[Nnodes].append(c_sens)\n",
        "  multiLin_importMatrix.append(temp_one_sim_impMat)\n",
        "  multiLin_adjMatrix.append(temp_one_sim_adjMat)\n",
        "#print(np.average(np.array(all_c_multiLin)))"
      ],
      "execution_count": null,
      "outputs": []
    },
    {
      "cell_type": "code",
      "metadata": {
        "colab": {
          "base_uri": "https://localhost:8080/"
        },
        "id": "WSF_wHjhxAzK",
        "outputId": "7cafc0f5-67c4-4083-d38d-9b8eb458fa8e"
      },
      "source": [
        "multiLin_importMatrix[0][0]"
      ],
      "execution_count": null,
      "outputs": [
        {
          "output_type": "execute_result",
          "data": {
            "text/plain": [
              "array([[ 1.        ,  0.29854492,  0.01311794, -0.18438074,  0.26652801],\n",
              "       [ 0.25316277,  1.        ,  0.27728468, -0.04145318, -0.00813602],\n",
              "       [ 0.01078976,  0.26895636,  1.        ,  0.2587124 , -0.00387557],\n",
              "       [-0.12180083, -0.03229255,  0.207781  ,  1.        ,  0.41134156],\n",
              "       [ 0.21766099, -0.00783537, -0.00384793,  0.50851723,  1.        ]])"
            ]
          },
          "metadata": {
            "tags": []
          },
          "execution_count": 30
        }
      ]
    },
    {
      "cell_type": "markdown",
      "metadata": {
        "id": "hyP3B8cgnslO"
      },
      "source": [
        "Random Forest Regression - Naomi"
      ]
    },
    {
      "cell_type": "code",
      "metadata": {
        "id": "eVVaXgTMTY5Z"
      },
      "source": [
        "all_c_tree = {5: [], 10: [], 15: [], 50: []}\n",
        "tree_impMat = []\n",
        "tree_adjMat = []\n",
        "# for each simulation, for each person\n",
        "for i in range(1,29):\n",
        "  mat = scipy.io.loadmat('sim' + str(i) + '.mat')\n",
        "  Nsubjects = mat['Nsubjects'][0,0]\n",
        "  Ntimepoints = mat['Ntimepoints'][0,0]\n",
        "  Nnodes = mat['Nnodes'][0,0]\n",
        "  np_ts = mat['ts']\n",
        "  net = mat['net']\n",
        "# calc extremely randomized trees, c-sens\n",
        "  temp_one_sim_impMat = []\n",
        "  temp_one_sim_adjMat = []\n",
        "  for pers in range(Nsubjects):\n",
        "    res = calc_importance_matrix_ExRandTrees(pers, Ntimepoints, Nnodes, np_ts, net)\n",
        "    model = avg_and_calc_threshold(res.copy(), Nnodes)\n",
        "    temp_one_sim_impMat.append(res)\n",
        "    temp_one_sim_adjMat.append(model)\n",
        "    c_sens = calc_c_sensitivity(model, net[pers,:,:])\n",
        "# end: average all c-sens'\n",
        "    all_c_tree[Nnodes].append(c_sens)\n",
        "  tree_impMat.append(temp_one_sim_impMat)\n",
        "  tree_adjMat.append(temp_one_sim_adjMat)"
      ],
      "execution_count": null,
      "outputs": []
    },
    {
      "cell_type": "markdown",
      "metadata": {
        "id": "B-V_zeFMn8hL"
      },
      "source": [
        "SVM"
      ]
    },
    {
      "cell_type": "code",
      "metadata": {
        "id": "3KBBz616khV8"
      },
      "source": [
        "all_c_svm = {5: [], 10: [], 15: [], 50: []}\n",
        "svm_impMat = []\n",
        "svm_adjMat = []\n",
        "# for each simulation, for each person\n",
        "for i in range(1,29):\n",
        "  mat = scipy.io.loadmat('sim' + str(i) + '.mat')\n",
        "  Nsubjects = mat['Nsubjects'][0,0]\n",
        "  Ntimepoints = mat['Ntimepoints'][0,0]\n",
        "  Nnodes = mat['Nnodes'][0,0]\n",
        "  np_ts = mat['ts']\n",
        "  net = mat['net']\n",
        "  temp_one_sim_impMat = []\n",
        "  temp_one_sim_adjMat = []\n",
        "# calc extremely randomized trees, c-sens\n",
        "  for pers in range(Nsubjects):\n",
        "    res = calc_importance_matrix_SVM(pers, Ntimepoints, Nnodes, np_ts, net)\n",
        "    model = avg_and_calc_threshold(res, Nnodes)\n",
        "    temp_one_sim_impMat.append(res.copy())\n",
        "    temp_one_sim_adjMat.append(model)\n",
        "    c_sens = calc_c_sensitivity(model, net[pers,:,:])\n",
        "# end: average all c-sens'\n",
        "    all_c_svm[Nnodes].append(c_sens)\n",
        "#print(np.average(np.array(all_c_multiLin)))\n",
        "  svm_impMat.append(temp_one_sim_impMat)\n",
        "  svm_adjMat.append(temp_one_sim_adjMat)\n",
        "np.save(\"svm_impMat\", np.array(svm_impMat))\n",
        "np.save(\"svm_adjMat\", np.array(svm_adjMat))"
      ],
      "execution_count": null,
      "outputs": []
    },
    {
      "cell_type": "markdown",
      "metadata": {
        "id": "g7LYi3yYoBS3"
      },
      "source": [
        "Full Correlation"
      ]
    },
    {
      "cell_type": "code",
      "metadata": {
        "id": "-z2r2KK3tWE8"
      },
      "source": [
        "all_c_fullcorr = {5: [], 10: [], 15: [], 50: []}\n",
        "fullCor_impMat = []\n",
        "fullCor_adjMat = []\n",
        "# for each simulation, for each person\n",
        "for i in range(1,29):\n",
        "  mat = scipy.io.loadmat('sim' + str(i) + '.mat')\n",
        "  Nsubjects = mat['Nsubjects'][0,0]\n",
        "  Ntimepoints = mat['Ntimepoints'][0,0]\n",
        "  Nnodes = mat['Nnodes'][0,0]\n",
        "  np_ts = mat['ts']\n",
        "  net = mat['net']\n",
        "  temp_one_sim_impMat = []\n",
        "  temp_one_sim_adjMat = []\n",
        "# calc extremely randomized trees, c-sens\n",
        "  for pers in range(Nsubjects):\n",
        "    person_i = np_ts[pers*Ntimepoints:(pers+1)*Ntimepoints,:]\n",
        "    X = np.corrcoef(person_i.T)\n",
        "    model = avg_and_calc_threshold(X.copy(), Nnodes)\n",
        "    temp_one_sim_impMat.append(X)\n",
        "    temp_one_sim_adjMat.append(model)\n",
        "    c_sens = calc_c_sensitivity(model, net[0,:,:])\n",
        "    all_c_fullcorr[Nnodes].append(c_sens)\n",
        "  fullCor_impMat.append(temp_one_sim_impMat)\n",
        "  fullCor_adjMat.append(temp_one_sim_adjMat)\n",
        "np.save('fullCor_adjMat2', np.array(fullCor_adjMat))\n",
        "np.save('fullCor_impMat2',np.array(fullCor_impMat))"
      ],
      "execution_count": null,
      "outputs": []
    },
    {
      "cell_type": "markdown",
      "metadata": {
        "id": "4x93brgeoL9r"
      },
      "source": [
        "Partial Correlation"
      ]
    },
    {
      "cell_type": "code",
      "metadata": {
        "id": "fTmuRJPHunju"
      },
      "source": [
        "all_c_partcorr = {5: [], 10: [], 15: [], 50: []}\n",
        "parCor_impMat = []\n",
        "parCor_adjMat = []\n",
        "# for each simulation, for each person\n",
        "for i in range(1,29):\n",
        "  mat = scipy.io.loadmat('sim' + str(i) + '.mat')\n",
        "  Nsubjects = mat['Nsubjects'][0,0]\n",
        "  Ntimepoints = mat['Ntimepoints'][0,0]\n",
        "  Nnodes = mat['Nnodes'][0,0]\n",
        "  np_ts = mat['ts']\n",
        "  net = mat['net']\n",
        "  temp_one_sim_impMat = []\n",
        "  temp_one_sim_adjMat = []\n",
        "  for pers in range(Nsubjects):\n",
        "    person_i = np_ts[pers*Ntimepoints:(pers+1)*Ntimepoints,:]\n",
        "    par_cor = partial_corr(person_i)\n",
        "    model = avg_and_calc_threshold(par_cor.copy(), Nnodes)\n",
        "    temp_one_sim_impMat.append(par_cor)\n",
        "    temp_one_sim_adjMat.append(model)\n",
        "    c_sens = calc_c_sensitivity(model, net[pers,:,:])\n",
        "    all_c_partcorr[Nnodes].append(c_sens)\n",
        "  parCor_impMat.append(temp_one_sim_impMat)\n",
        "  parCor_adjMat.append(temp_one_sim_adjMat)"
      ],
      "execution_count": null,
      "outputs": []
    },
    {
      "cell_type": "markdown",
      "metadata": {
        "id": "fwFyNKnuhV13"
      },
      "source": [
        "# t tests"
      ]
    },
    {
      "cell_type": "markdown",
      "metadata": {
        "id": "dxPJwrhnh0-8"
      },
      "source": [
        "Load Data"
      ]
    },
    {
      "cell_type": "code",
      "metadata": {
        "id": "TeOhZTMihZ6c"
      },
      "source": [
        "all_c_fullcorr = np.load('all_c_fullcorr.npy',allow_pickle='TRUE').item()\n",
        "all_c_partcorr = np.load('all_c_partcorr.npy',allow_pickle='TRUE').item()\n",
        "all_c_multiLin = np.load('all_c_multiLin.npy',allow_pickle='TRUE').item()\n",
        "all_c_tree = np.load('all_c_tree.npy',allow_pickle='TRUE').item()\n",
        "all_c_svm = np.load('all_c_svm.npy',allow_pickle='TRUE').item()"
      ],
      "execution_count": null,
      "outputs": []
    },
    {
      "cell_type": "markdown",
      "metadata": {
        "id": "p51DoWlQh6v5"
      },
      "source": [
        "5 Nodes - Comparing Random Forests with All"
      ]
    },
    {
      "cell_type": "code",
      "metadata": {
        "id": "DWwGBbgEhsgC"
      },
      "source": [
        "scipy.stats.ttest_ind(all_c_tree[5], all_c_fullcorr[5], axis=0, equal_var=True, nan_policy='propagate') # 5.186966107133436e-16\n",
        "scipy.stats.ttest_ind(all_c_tree[5], all_c_partcorr[5], axis=0, equal_var=True, nan_policy='propagate') # 0.018954927677941033\n",
        "scipy.stats.ttest_ind(all_c_tree[5], all_c_multiLin[5], axis=0, equal_var=True, nan_policy='propagate') # 0.0035793871095411212\n",
        "scipy.stats.ttest_ind(all_c_tree[5], all_c_svm[5], axis=0, equal_var=True, nan_policy='propagate') # 0.0033322902957558646"
      ],
      "execution_count": null,
      "outputs": []
    },
    {
      "cell_type": "markdown",
      "metadata": {
        "id": "A0TK2AeqiEkO"
      },
      "source": [
        "10 Nodes - Comparing Random Forests with All"
      ]
    },
    {
      "cell_type": "code",
      "metadata": {
        "id": "NLdhCnvghuoS"
      },
      "source": [
        "scipy.stats.ttest_ind(all_c_tree[10], all_c_fullcorr[10], axis=0, equal_var=True, nan_policy='propagate') # 0.00041983993376560615\n",
        "scipy.stats.ttest_ind(all_c_tree[10], all_c_partcorr[10], axis=0, equal_var=True, nan_policy='propagate') # 0.6809588780890732\n",
        "scipy.stats.ttest_ind(all_c_tree[10], all_c_multiLin[10], axis=0, equal_var=True, nan_policy='propagate') # 0.6654466278810371\n",
        "scipy.stats.ttest_ind(all_c_tree[10], all_c_svm[10], axis=0, equal_var=True, nan_policy='propagate') # 0.4578300853837173)"
      ],
      "execution_count": null,
      "outputs": []
    },
    {
      "cell_type": "markdown",
      "metadata": {
        "id": "vJAfBLeViIi2"
      },
      "source": [
        "50 Nodes - Comparing Full Correlation with All"
      ]
    },
    {
      "cell_type": "code",
      "metadata": {
        "id": "RkGJZCRPhpjr"
      },
      "source": [
        "scipy.stats.ttest_ind(all_c_fullcorr[50], all_c_partcorr[50], axis=0, equal_var=True, nan_policy='propagate') # 2.9317275160533637e-16\n",
        "scipy.stats.ttest_ind(all_c_fullcorr[50], all_c_multiLin[50], axis=0, equal_var=True, nan_policy='propagate') # 1.0614455380534376e-16\n",
        "scipy.stats.ttest_ind(all_c_fullcorr[50], all_c_tree[50], axis=0, equal_var=True, nan_policy='propagate') # 1.037667313556229e-09\n",
        "scipy.stats.ttest_ind(all_c_fullcorr[50], all_c_svm[50], axis=0, equal_var=True, nan_policy='propagate') # 4.797258129903904e-27"
      ],
      "execution_count": null,
      "outputs": []
    },
    {
      "cell_type": "markdown",
      "metadata": {
        "id": "xxhjlmL7oZt4"
      },
      "source": [
        "# Calculating Importance Matrices"
      ]
    },
    {
      "cell_type": "markdown",
      "metadata": {
        "id": "0W7eHxsyolqG"
      },
      "source": [
        "Averaging and Calculating Threshold"
      ]
    },
    {
      "cell_type": "code",
      "metadata": {
        "id": "6FUsgKe44GET"
      },
      "source": [
        "def avg_and_calc_threshold(impMatrix, Nnodes):\n",
        "  sum = 0\n",
        "  count = 0\n",
        "  for i in range(Nnodes):\n",
        "    for j in range(i + 1, Nnodes):\n",
        "      avg = (impMatrix[i][j] + impMatrix[j][i])/2\n",
        "      impMatrix[i][j] = avg\n",
        "      impMatrix[j][i] = avg\n",
        "      sum += avg\n",
        "      count += 1\n",
        "  threshold = sum/count\n",
        "  for k in range(Nnodes):\n",
        "    for l in range(Nnodes):\n",
        "      if impMatrix[k][l] < threshold or k == l:\n",
        "        impMatrix[k][l] = 0\n",
        "  return impMatrix"
      ],
      "execution_count": null,
      "outputs": []
    },
    {
      "cell_type": "markdown",
      "metadata": {
        "id": "rNkY3O2eovfe"
      },
      "source": [
        "Calculating C-sensitivity"
      ]
    },
    {
      "cell_type": "code",
      "metadata": {
        "id": "MgxcCwIsCGEE"
      },
      "source": [
        "def calc_c_sensitivity(model, actual):\n",
        "  tp = []\n",
        "  fp = []\n",
        "  for i in range(Nnodes):\n",
        "    for j in range(i+1,Nnodes):\n",
        "      #if a positive\n",
        "      if model[i][j] > 0: \n",
        "        #if true positive\n",
        "        if actual[i][j] > 0:\n",
        "          tp.append(model[i][j])\n",
        "        #otherwise false positive\n",
        "        else:\n",
        "          fp.append(model[i][j])\n",
        "  #print('tp', tp)\n",
        "  #print('fp', fp)\n",
        "  if len(fp) == 0:\n",
        "    return 1.0\n",
        "  elif len(tp) == 0:\n",
        "    return 0.0\n",
        "  else:\n",
        "    fp95 = np.percentile(np.array(fp), 95)\n",
        "    #print('fp 95th percentile: ', fp95)\n",
        "    tp_np = np.array(tp)\n",
        "    return len(tp_np[tp_np > fp95])/len(tp)"
      ],
      "execution_count": null,
      "outputs": []
    },
    {
      "cell_type": "markdown",
      "metadata": {
        "id": "KPb9yG7LofjG"
      },
      "source": [
        "Multiple Linear Regression"
      ]
    },
    {
      "cell_type": "code",
      "metadata": {
        "id": "6YRL-n3EMd-M"
      },
      "source": [
        "def calc_importance_matrix_MultipleLinReg(i, Ntimepoints,Nnodes, np_ts, net):\n",
        "  res=[]\n",
        "  #for i in range(Nsubjects):\n",
        "  person_i = np_ts[i*Ntimepoints:(i+1)*Ntimepoints,:]\n",
        "  for j in range(Nnodes):\n",
        "    X = np.concatenate((person_i[:,:j],person_i[:,j+1:]), axis=1)\n",
        "    Y=person_i[:,j]\n",
        "    reg=linear_model.LinearRegression()\n",
        "    reg.fit(X,Y)\n",
        "    adjusted_row = np.concatenate((reg.coef_[:j], np.array([1.0]), reg.coef_[j:]))\n",
        "    adjusted_row2 = np.resize(adjusted_row,(1,len(adjusted_row)))\n",
        "    if j == 0:\n",
        "      res = adjusted_row2\n",
        "    else:\n",
        "      res = np.append(res, adjusted_row2, axis=0)\n",
        "  return res"
      ],
      "execution_count": null,
      "outputs": []
    },
    {
      "cell_type": "code",
      "metadata": {
        "id": "t-DM4fG5ZFpL"
      },
      "source": [
        "res = calc_importance_matrix_MultipleLinReg(9,Ntimepoints,Nnodes, np_ts, net)\n",
        "print(res)\n",
        "\n",
        "fig = plt.figure(figsize=(8,6))\n",
        "plt.imshow(res, cmap='Blues')\n",
        "plt.colorbar()\n",
        "plt.title('Multiple Linear Regression: Person 1')\n",
        "plt.show()\n",
        "# add regularization term (Ridge + Lasso)\n",
        "model = avg_and_calc_threshold(res, Nnodes)\n",
        "print(model)\n",
        "fig = plt.figure(figsize=(8,6))\n",
        "plt.imshow(model, cmap='Blues')\n",
        "plt.colorbar()\n",
        "plt.title('Multiple Linear Regression: Person 1')\n",
        "plt.show()\n",
        "c_sens = calc_c_sensitivity(model, net[0,:,:])\n",
        "print('c-sensitivity: ', c_sens)"
      ],
      "execution_count": null,
      "outputs": []
    },
    {
      "cell_type": "markdown",
      "metadata": {
        "id": "18vsXL7WpFH_"
      },
      "source": [
        "Random Forest Regression"
      ]
    },
    {
      "cell_type": "code",
      "metadata": {
        "id": "bV-gGIZ2Pi-A"
      },
      "source": [
        "def calc_importance_matrix_ExRandTrees(i, Ntimepoints,Nnodes, np_ts, net):\n",
        "  res=[]\n",
        "  #for i in range(Nsubjects):\n",
        "  person_i = np_ts[i*Ntimepoints:(i+1)*Ntimepoints,:]\n",
        "  for j in range(Nnodes):\n",
        "    X = np.concatenate((person_i[:,:j],person_i[:,j+1:]), axis=1)\n",
        "    Y=person_i[:,j]\n",
        "    regr = RandomForestRegressor(max_depth=5, random_state=0) #future: maximize c-sens of test data (1/5 of data)\n",
        "    regr.fit(X, Y)\n",
        "    adjusted_row = np.concatenate((regr.feature_importances_[:j], np.array([1.0]), regr.feature_importances_[j:]))\n",
        "    adjusted_row2 = np.resize(adjusted_row,(1,len(adjusted_row)))\n",
        "    if j == 0:\n",
        "      res = adjusted_row2\n",
        "    else:\n",
        "      res = np.append(res, adjusted_row2, axis=0)\n",
        "  return res"
      ],
      "execution_count": null,
      "outputs": []
    },
    {
      "cell_type": "code",
      "metadata": {
        "id": "rq6RZkHvfvew"
      },
      "source": [
        "res = calc_importance_matrix_ExRandTrees(0,Ntimepoints,Nnodes, np_ts, net)\n",
        "print(res)\n",
        "\n",
        "fig = plt.figure(figsize=(8,6))\n",
        "plt.imshow(res, cmap='Blues')\n",
        "plt.colorbar()\n",
        "plt.title('Extremely Randomized Trees: Person 1')\n",
        "plt.show()\n",
        "\n",
        "model = avg_and_calc_threshold(res, Nnodes)\n",
        "print(model)\n",
        "c_sens = calc_c_sensitivity(model, net[0,:,:])\n",
        "print('c-sensitivity: ', c_sens)"
      ],
      "execution_count": null,
      "outputs": []
    },
    {
      "cell_type": "code",
      "metadata": {
        "id": "JMr70ZllPSEy"
      },
      "source": [
        "res=[]\n",
        "#for i in range(Nsubjects):\n",
        "i=0\n",
        "person_i = np_ts[i*Ntimepoints:(i+1)*Ntimepoints,:]\n",
        "for j in range(Nnodes):\n",
        "  X = np.concatenate((person_i[:,:j],person_i[:,j+1:]), axis=1)\n",
        "  Y=person_i[:,j]\n",
        "  regr = RandomForestRegressor(max_depth=2, random_state=0)\n",
        "  regr.fit(X, Y)\n",
        "  adjusted_row = np.concatenate((regr.feature_importances_[:j], np.array([1.0]), regr.feature_importances_[j:]))\n",
        "  adjusted_row2 = np.resize(adjusted_row,(1,len(adjusted_row)))\n",
        "  if j == 0:\n",
        "    res = adjusted_row2\n",
        "  else:\n",
        "    res = np.append(res, adjusted_row2, axis=0)\n",
        "print(res)"
      ],
      "execution_count": null,
      "outputs": []
    },
    {
      "cell_type": "markdown",
      "metadata": {
        "id": "Z7Vi9faPoicR"
      },
      "source": [
        "SVM"
      ]
    },
    {
      "cell_type": "code",
      "metadata": {
        "id": "KOhuQe2zz4pz"
      },
      "source": [
        "def calc_importance_matrix_SVM(i, Ntimepoints,Nnodes, np_ts, net):\n",
        "  res=[]\n",
        "  #for i in range(Nsubjects):\n",
        "  person_i = np_ts[i*Ntimepoints:(i+1)*Ntimepoints,:]\n",
        "  for j in range(Nnodes):\n",
        "    X = np.concatenate((person_i[:,:j],person_i[:,j+1:]), axis=1)\n",
        "    Y=person_i[:,j]\n",
        "    regr = svm.SVR(kernel='linear') #(kernel='rbf', C=10, gamma=0.1, epsilon=.1) #\n",
        "    regr.fit(X,Y)\n",
        "    #print('class weight', regr.class_weight_)\n",
        "    #print('dual coef', regr.dual_coef_)\n",
        "    #print('suport vectors:', regr.support_vectors_)\n",
        "    adjusted_row = np.concatenate((regr.coef_[0,:j], np.array([1.0]), regr.coef_[0,j:]))\n",
        "    adjusted_row2 = np.resize(adjusted_row,(1,len(adjusted_row)))\n",
        "    if j == 0:\n",
        "      res = adjusted_row2\n",
        "    else:\n",
        "      res = np.append(res, adjusted_row2, axis=0)\n",
        "  return res"
      ],
      "execution_count": null,
      "outputs": []
    },
    {
      "cell_type": "code",
      "metadata": {
        "id": "4eYW1USay4Qn"
      },
      "source": [
        "res = calc_importance_matrix_SVM(0,Ntimepoints,Nnodes, np_ts, net)\n",
        "print(res)\n",
        "\n",
        "fig = plt.figure(figsize=(8,6))\n",
        "plt.imshow(res, cmap='Blues')\n",
        "plt.colorbar()\n",
        "plt.title('SVM (Linear Kernel): Person 1') #should probs do rb\n",
        "plt.show()\n",
        "\n",
        "model = avg_and_calc_threshold(res, Nnodes)\n",
        "print(model)\n",
        "c_sens = calc_c_sensitivity(model, net[0,:,:])\n",
        "print('c-sensitivity: ', c_sens)"
      ],
      "execution_count": null,
      "outputs": []
    },
    {
      "cell_type": "markdown",
      "metadata": {
        "id": "Z4Vy-jSyp2Ad"
      },
      "source": [
        "Ground Truth"
      ]
    },
    {
      "cell_type": "code",
      "metadata": {
        "id": "pNzIwnKUZacL"
      },
      "source": [
        "print(net[0,:,:])\n",
        "\n",
        "fig = plt.figure(figsize=(8,6))\n",
        "plt.imshow(np.abs(net[0,:,:]), cmap='Blues')\n",
        "plt.colorbar()\n",
        "plt.title('Ground Truth: Person 1')\n",
        "plt.show()"
      ],
      "execution_count": null,
      "outputs": []
    },
    {
      "cell_type": "markdown",
      "metadata": {
        "id": "110GbwQ4p432"
      },
      "source": [
        "Full Correlation"
      ]
    },
    {
      "cell_type": "code",
      "metadata": {
        "colab": {
          "base_uri": "https://localhost:8080/",
          "height": 585
        },
        "id": "Yyq_7MmcvHbP",
        "outputId": "76d31b0d-2717-461e-f2fe-1b51096ef7c5"
      },
      "source": [
        "i = 5\n",
        "person_i = np_ts[i*Ntimepoints:(i+1)*Ntimepoints,:]\n",
        "X = np.corrcoef(person_i.T)\n",
        "print(X)\n",
        "\n",
        "fig = plt.figure(figsize=(8,6))\n",
        "\n",
        "plt.imshow(X, cmap='Blues')\n",
        "plt.title(\"Full correlation\")\n",
        "plt.colorbar()\n",
        "plt.show()\n",
        "\n",
        "model = avg_and_calc_threshold(X, Nnodes)\n",
        "print(model)\n",
        "c_sens = calc_c_sensitivity(model, net[0,:,:])\n",
        "print('c-sensitivity: ', c_sens)"
      ],
      "execution_count": null,
      "outputs": [
        {
          "output_type": "stream",
          "text": [
            "[[1.         0.36255376 0.27639967 0.14800097 0.46128682]\n",
            " [0.36255376 1.         0.40028384 0.05610829 0.06839106]\n",
            " [0.27639967 0.40028384 1.         0.25942294 0.0564801 ]\n",
            " [0.14800097 0.05610829 0.25942294 1.         0.29711056]\n",
            " [0.46128682 0.06839106 0.0564801  0.29711056 1.        ]]\n"
          ],
          "name": "stdout"
        },
        {
          "output_type": "display_data",
          "data": {
            "image/png": "[encoded data removed]",
            "text/plain": [
              "<Figure size 576x432 with 2 Axes>"
            ]
          },
          "metadata": {
            "tags": []
          }
        },
        {
          "output_type": "stream",
          "text": [
            "[[0.         0.36255376 0.27639967 0.         0.46128682]\n",
            " [0.36255376 0.         0.40028384 0.         0.        ]\n",
            " [0.27639967 0.40028384 0.         0.25942294 0.        ]\n",
            " [0.         0.         0.25942294 0.         0.29711056]\n",
            " [0.46128682 0.         0.         0.29711056 0.        ]]\n",
            "c-sensitivity:  0.8\n"
          ],
          "name": "stdout"
        }
      ]
    },
    {
      "cell_type": "markdown",
      "metadata": {
        "id": "we3CnbgYp8I6"
      },
      "source": [
        "Partial Correlation"
      ]
    },
    {
      "cell_type": "code",
      "metadata": {
        "id": "hU82AZ2EwgLd"
      },
      "source": [
        "#from matlab bc python doesn't have a formal partial correlation for some reason...\n",
        "# part_corr = np.array([[1.0000 ,   0.2749  ,  0.0119 ,  -0.1499   , 0.2409],\n",
        "#     [0.2749  ,  1.0000  ,  0.2731 ,  -0.0366  , -0.0080],\n",
        "#     [0.0119  ,  0.2731 ,   1.0000 ,   0.2319 ,  -0.0039],\n",
        "#    [-0.1499  , -0.0366 ,   0.2319 ,   1.0000 ,   0.4574],\n",
        "#     [0.2409  , -0.0080 ,  -0.0039 ,   0.4574 ,   1.0000]])\n",
        "#part_corr = partial_corr(pd.DataFrame(person_i, columns = ['Column_A','Column_B','Column_C']))\n",
        "fig = plt.figure(figsize=(8,6))\n",
        "print(par_cor)\n",
        "\n",
        "plt.imshow(par_cor, cmap='Blues')\n",
        "plt.title(\"Partial correlation: Person 1\")\n",
        "plt.colorbar()\n",
        "plt.show()\n",
        "print(Nnodes)\n",
        "model = avg_and_calc_threshold(par_cor, Nnodes)\n",
        "print(model)\n",
        "c_sens = calc_c_sensitivity(model, net[0,:,:])\n",
        "print('c-sensitivity: ', c_sens)"
      ],
      "execution_count": null,
      "outputs": []
    },
    {
      "cell_type": "code",
      "metadata": {
        "colab": {
          "base_uri": "https://localhost:8080/"
        },
        "id": "GFYVkPNvMOfR",
        "outputId": "3c043571-6a7d-4da1-af20-3a9b1dd99242"
      },
      "source": [
        "from scipy import stats, linalg\n",
        "\n",
        "def partial_corr(C):\n",
        "    \"\"\"\n",
        "    Returns the sample linear partial correlation coefficients between pairs of variables in C, controlling \n",
        "    for the remaining variables in C.\n",
        "    Parameters\n",
        "    ----------\n",
        "    C : array-like, shape (n, p)\n",
        "        Array with the different variables. Each column of C is taken as a variable\n",
        "    Returns\n",
        "    -------\n",
        "    P : array-like, shape (p, p)\n",
        "        P[i, j] contains the partial correlation of C[:, i] and C[:, j] controlling\n",
        "        for the remaining variables in C.\n",
        "    \"\"\"\n",
        "\n",
        "    C = np.asarray(C)\n",
        "    p = C.shape[1]\n",
        "    P_corr = np.zeros((p, p), dtype=np.float)\n",
        "    for i in range(p):\n",
        "        P_corr[i, i] = 1\n",
        "        for j in range(i+1, p):\n",
        "            idx = np.ones(p, dtype=np.bool)\n",
        "            idx[i] = False\n",
        "            idx[j] = False\n",
        "            beta_i = linalg.lstsq(C[:, idx], C[:, j])[0]\n",
        "            beta_j = linalg.lstsq(C[:, idx], C[:, i])[0]\n",
        "\n",
        "            res_j = C[:, j] - C[:, idx].dot( beta_i)\n",
        "            res_i = C[:, i] - C[:, idx].dot(beta_j)\n",
        "\n",
        "            corr = stats.pearsonr(res_i, res_j)[0]\n",
        "            P_corr[i, j] = corr\n",
        "            P_corr[j, i] = corr\n",
        "\n",
        "    return P_corr\n",
        "\n",
        "#df = pd.DataFrame(person_i, columns = ['A']*Nnodes)\n",
        "i=0\n",
        "person_i = np_ts[i*Ntimepoints:(i+1)*Ntimepoints,:]\n",
        "partial_corr_array = person_i#df.as_matrix()\n",
        "print(person_i.shape)\n",
        "# Calculate the partial correlation coefficients\n",
        "par_cor = partial_corr(person_i)"
      ],
      "execution_count": null,
      "outputs": [
        {
          "output_type": "stream",
          "text": [
            "(200, 5)\n"
          ],
          "name": "stdout"
        }
      ]
    },
    {
      "cell_type": "markdown",
      "metadata": {
        "id": "yclI1yfUqOWL"
      },
      "source": [
        "Symbolic Regression"
      ]
    },
    {
      "cell_type": "code",
      "metadata": {
        "id": "YluX9mesnOqD"
      },
      "source": [
        "import gplearn as gpl        \n",
        "from gplearn.genetic import SymbolicRegressor\n",
        "\n",
        "# est_gp = SymbolicRegressor(population_size=5000,\n",
        "#                            generations=20, stopping_criteria=0.01,\n",
        "#                            p_crossover=0.7, p_subtree_mutation=0.1,\n",
        "#                            p_hoist_mutation=0.05, p_point_mutation=0.1,\n",
        "#                            max_samples=0.9, verbose=1,\n",
        "#                            parsimony_coefficient=0.01, random_state=0)\n",
        "est_gp = SymbolicRegressor(population_size = 3000, tournament_size=5,\n",
        "                          generations = 25, stopping_criteria=0.1,\n",
        "                          metric='rmse',\n",
        "                          p_crossover=0.65, p_subtree_mutation=0.15,\n",
        "                          p_hoist_mutation=0.05, p_point_mutation=0.1,\n",
        "                          verbose = 1, random_state = None, n_jobs = -1)\n",
        "j=0\n",
        "X = np.concatenate((person_i[:,:j],person_i[:,j+1:]), axis=1)\n",
        "Y=person_i[:,j]\n",
        "est_gp.fit(X, Y)"
      ],
      "execution_count": null,
      "outputs": []
    },
    {
      "cell_type": "code",
      "metadata": {
        "id": "P0BYvsIKb4ih"
      },
      "source": [
        "pip install gplearn"
      ],
      "execution_count": null,
      "outputs": []
    },
    {
      "cell_type": "code",
      "metadata": {
        "id": "wLBEFMjws2gR"
      },
      "source": [
        "print(est_gp._program)"
      ],
      "execution_count": null,
      "outputs": []
    },
    {
      "cell_type": "code",
      "metadata": {
        "id": "IjbVS4rduD0G"
      },
      "source": [
        "print(est_gp._program)"
      ],
      "execution_count": null,
      "outputs": []
    },
    {
      "cell_type": "code",
      "metadata": {
        "id": "4sKiCt7LnmVm"
      },
      "source": [
        "!pip install gplearn"
      ],
      "execution_count": null,
      "outputs": []
    },
    {
      "cell_type": "markdown",
      "metadata": {
        "id": "5gfpdjGZqnLw"
      },
      "source": [
        "# Misc. Old Code"
      ]
    },
    {
      "cell_type": "code",
      "metadata": {
        "id": "_ln3OYYSVdPl"
      },
      "source": [
        "df = pd.read_csv('sim1ts1.csv')\n",
        "X = df[['node1', 'node2', 'node3', 'node4']]\n",
        "Y = df['node5']"
      ],
      "execution_count": null,
      "outputs": []
    },
    {
      "cell_type": "code",
      "metadata": {
        "id": "xpVOd3EZVe1j"
      },
      "source": [
        "reg=linear_model.LinearRegression()\n",
        "reg.fit(X,Y)\n",
        "reg.coef_"
      ],
      "execution_count": null,
      "outputs": []
    },
    {
      "cell_type": "code",
      "metadata": {
        "id": "RAOox2YsVh7V"
      },
      "source": [
        "from sklearn.ensemble import RandomForestRegressor\n",
        "from sklearn.datasets import make_regression\n",
        "regr = RandomForestRegressor(max_depth=2, random_state=0)\n",
        "regr.fit(X, Y)\n",
        "regr.feature_importances_"
      ],
      "execution_count": null,
      "outputs": []
    },
    {
      "cell_type": "code",
      "metadata": {
        "id": "VT9U8dfUV3uS"
      },
      "source": [
        "df1 = [[1,0.14637418, 0.26985333, 0.17469013, 0.40908236], [0.44011094, 1,0.45310951, 0.0460363 , 0.06074326],[0.25951337, 0.46461836, 1,0.17412894, 0.10173934] ,[0.25519215, 0.12464035, 0.42438851, 1,0.19577899], [0.5659051 , 0.13064087, 0.100298  , 0.20315603,1]]\n",
        "\n",
        "df2 = [[1,0.57563744, 0.1206875 , 0.03796405, 0.26571101], [0.04150232,1, 0.09852131, 0.74347962, 0.11649675], [0.19433478, 0.01544446,1, 0.37234976, 0.417871],[0.09241102, 0.11153479, 0.08491813,1, 0.71113606],[0.44112153, 0.06008876, 0.42584236, 0.07294735,0]]\n",
        "\n",
        "df3  = [[1,0.59085846, 0.04374414, 0.292038  , 0.07335939],[0.25609297,1, 0.23415234, 0.42953435, 0.08022034],[0.34758726, 0.55602423,1, 0.07940353, 0.01698497],[0.07862085, 0.06403403, 0.16212624,1, 0.69521888],[0.40855464, 0.06356624, 0.40372305, 0.12415607,0]]\n"
      ],
      "execution_count": null,
      "outputs": []
    },
    {
      "cell_type": "code",
      "metadata": {
        "id": "2v08CzjLWBKP"
      },
      "source": [
        "import numpy as np\n",
        "import matplotlib.pyplot as plt\n",
        "\n",
        "X=np.array(df1)\n",
        "X2=np.array(df2)\n",
        "X3=np.array(df3)\n",
        "\n",
        "fig = plt.figure(figsize=(8,6))\n",
        "plt.imshow(X)\n",
        "plt.title(\"Plot 2D array\")\n",
        "plt.show()"
      ],
      "execution_count": null,
      "outputs": []
    },
    {
      "cell_type": "code",
      "metadata": {
        "id": "DNpKRgvU7ejt"
      },
      "source": [
        "df1_cc = np.corrcoef()"
      ],
      "execution_count": null,
      "outputs": []
    },
    {
      "cell_type": "markdown",
      "metadata": {
        "id": "a-DtjxQfV3IA"
      },
      "source": [
        ""
      ]
    }
  ]
}